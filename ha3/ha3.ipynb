{
 "cells": [
  {
   "cell_type": "code",
   "execution_count": 1,
   "metadata": {},
   "outputs": [],
   "source": [
    "import sympy as sp\n",
    "import numpy as np\n",
    "import matplotlib.pyplot as plt"
   ]
  },
  {
   "cell_type": "markdown",
   "metadata": {},
   "source": [
    "### 1. Derive formula of $L_{2}(x)$ in terms of interpolation phase $ u = \\frac{x - x_{i}}{h} $.  Integrate $ \\hat{I_{i}^{i+2}}$ with received formula as integrand  [mathematical formula]. Usetimation time: ~30m"
   ]
  },
  {
   "cell_type": "markdown",
   "metadata": {},
   "source": [
    "**Note** Use constant step $h = const$ and condition *number of segments is even* $n = 2k$"
   ]
  },
  {
   "cell_type": "markdown",
   "metadata": {},
   "source": [
    "$L_2(x) = \\cfrac{(x - x_{i+1})(x - x_{i+2})}{(x_i - x_{i+1})(x_i - x_{i+2})} f_i + \\cfrac{(x - x_i)(x - x_{i+2})}{(x_{i+1} - x_i)(x_{i+1} - x_{i+2})}f_{i+1} + \\cfrac{(x - x_i)(x - x_{i+1})}{(x_{i+2} - x_i)(x_{i+2} - x_{i+1})}f_{i+2}$\n",
    "\n",
    "Let $h = const$ <br>\n",
    "$u = \\cfrac{x-x_i}{h}$ <br>\n",
    "\n",
    "$L_2(x) = \\cfrac{(x - x_{i+1})(x - x_{i+2})}{h \\cdot 2 \\cdot h} f_i + \\cfrac{(x - x_i)(x - x_{i+2})}{h \\cdot (-h)}f_{i+1} + \\cfrac{(x - x_i)(x - x_{i+1})}{h \\cdot 2 \\cdot h}f_{i+2}$\n",
    "\n",
    "$L_2(x) = \\cfrac{(x - x_i - h)(x - x_i - 2h)}{h \\cdot 2 \\cdot h} f_i + \\cfrac{(x - x_i)(x - x_i - 2h)}{h \\cdot (-h)}f_{i+1} + \\cfrac{(x - x_i)(x - x_i - h)}{h \\cdot 2 \\cdot h}f_{i+2}$\n",
    "\n",
    "$L_2(x) = (\\cfrac{(x - x_i)}{h} - 1)(\\cfrac{(x - x_i)}{h} - 2)\\cfrac{f_i}{2}  - (\\cfrac{(x - x_i)}{h})(\\cfrac{(x - x_i)}{h} - 2)f_{i+1} + (\\cfrac{(x - x_i)}{h})(\\cfrac{(x - x_i)}{h} - 1)\\cfrac{f_{i+2}}{2}$\n",
    "\n",
    "$L_2(x) = \\cfrac{(u - 1)(u - 2)}{2}f_i  - u(u - 2)f_{i+1} + \\cfrac{u(u - 1)}{2}f_{i+2}$\n",
    "\n",
    "$\\hat{I}_i^{i+2} = \\int\\limits_{x_i}^{x_{i+2}}L_2(x)dx = \\int\\limits_0^2[\\cfrac{(u - 1)(u - 2)}{2}f_i  - u(u - 2)f_{i+1} + \\cfrac{u(u - 1)}{2}f_{i+2}]hdu$\n",
    "\n",
    "where limits change was made as: <br>\n",
    "$x_i \\rightarrow u(x_i) = \\cfrac{x_i - x_i}{h} = 0$ <br>\n",
    "$x_{i+2} \\rightarrow u(x_{i+2}) = \\cfrac{x_i + 2h - x_i}{h} = 2$ <br>\n",
    "$\\int\\limits_{x_i}^{x_{i+2}} \\rightarrow \\int\\limits_0^2$\n",
    "\n",
    "and where $dx = hdu$, thus <br>\n",
    "\n",
    "$\\hat{I}_i^{i+2} = \\int\\limits_0^2[\\cfrac{(u - 1)(u - 2)}{2}f_i  - u(u - 2)f_{i+1} + \\cfrac{u(u - 1)}{2}f_{i+2}]hdu = h \\cdot [f_i \\cdot \\int\\limits_0^2\\cfrac{u^2-3u+2}{2}du - f_{i+1} cdot \\int\\limits_0^2(u^2 - 2u)du + f_{i+2} \\cdot \\int\\limits_0^2\\cfrac{u^2 - u}{2}du] = h \\cdot [f_i (\\cfrac{u^3}{6}|_0^2) - \\cfrac{3u^2}{4}|_0^2) + u|_0^2) - f_{i+1}(\\cfrac{u^3}{3}|_0^2) - u^2|_0^2)) + f_{i+2}(\\cfrac{u^3}{6}|_0^2) - \\cfrac{u^2}{4}|_0^2))] = \\cfrac{h}{3}(f_i + 4f_{i+1} + f_{i+2})$<br>\n",
    "resulting in\n",
    "\n",
    "$\\hat{I}_i^{i+2} = \\cfrac{h}{3}(f_i + 4f_{i+1} + f_{i+2})$ - Simpson's formula"
   ]
  },
  {
   "cell_type": "markdown",
   "metadata": {},
   "source": [
    "### 2. Explain how used condition $n = 2k$ helps us in integration. If we want to use odd number of segments we have to integrate with even number of segments but add the value $I_{n-1}^n$. What is the calculation accuracy order of $I_{n-1}^n$? Why? Explain both. [mathematical formula]. Usetimation time: ~30m"
   ]
  },
  {
   "cell_type": "markdown",
   "metadata": {},
   "source": [
    "Condition of $n = 2k$ helps us to compute all integral peices with the same formula, because if we have odd number of segments, we are left with one segment with 2 points instead of required 3 for $L_2$. So we have to integrate this last piece seprately with $I_{n-1}^{n}$.\n",
    "\n",
    "**Accuracy order of $I_{n-1}^{n}$ is $O(h^5)$**. It can be computed by subtracting parabola formula for 2 almost last segments ($I_i^{i+2}$ with accuracy order $O(h^5)$)  from Newton-Cotes formula for 3 last segments segments with the same accuracy order of $O(h^5)$.\n",
    "\n",
    "$I_{n-1}^n = I_{n-3}^{n} - I_{n-3}^{n-1} = \\cfrac{3h}{8}(f_{n-3}+3f_{n-2}+3f_{n-1}+f_n) - \\cfrac{h}{3}(f_{n-3}+4f_{n-2}+f_{n-1}) = (\\cfrac{3h}{8}f_{n-3} - \\cfrac{h}{3}f_{n-3}) + (\\cfrac{9h}{8}f_{n-2} - \\cfrac{4h}{3}f_{n-2}) + (\\cfrac{9h}{8}f_{n-1} - \\cfrac{h}{3}f_{n-1}) + \\cfrac{3h}{8}f_n = \\cfrac{h}{24}[f_{n-3} - 5f_{n-2} + 19f_{n-1} + 9f_n]$ \n",
    "\n",
    "$I_{n-1}^n = \\cfrac{h}{24}[f_{n-3} - 5f_{n-2} + 19f_{n-1} + 9f_n]$ formula (5.64) for right side 4-point pattern from page 262."
   ]
  },
  {
   "cell_type": "markdown",
   "metadata": {},
   "source": [
    "### 3. Derive the formula of whole $\\hat{I_{a}^{b}}$. Summarize all integrals on segments $\\hat{I_{i}^{i+1}}$ for even case, and for odd case. [mathematical formula]. Usetimation time: ~30m"
   ]
  },
  {
   "cell_type": "markdown",
   "metadata": {},
   "source": [
    "* **Even case** $n = 2k$\n",
    "\n",
    "$\\hat{I}_a^b = \\sum\\limits_{i=0}^{2k-2}\\hat{I}_i^{i+2} = \\cfrac{h}{3}(f_0 + 4f_1 + f_2 + f_2 + 4f_3 + f4 + f_4 + ... + 2f_{2k-2} + 4f_{2k-1} + f_{n}) = \\\\\n",
    "=\\cfrac{h}{3}[f_0 + 4(f_1 + f_3 + ... + f_{2k-1}) + 2(f_2 + f_4 + ... + f_{2k-2}) + f_{2k}] =\n",
    "\\cfrac{h}{3}[f_0 + 4\\sum\\limits_{i=1}^{k}f_{2i-1} + 2\\sum\\limits_{i=1}^{k - 1}f_{2i} + f_{2k}]$\n",
    "\n",
    "* **Odd case** $n = 2k+1$\n",
    "\n",
    "$\\hat{I}_a^b = \\sum\\limits_{i=0}^{2k-2}\\hat{I}_i^{i+2} + \\hat{I}_{n-1}^n = \\cfrac{h}{3}[f_0 + 4\\sum\\limits_{i=1}^{k}f_{2i-1} + 2\\sum\\limits_{i=1}^{k - 1}f_{2i} + f_{2k}] + \\cfrac{h}{24}[f_{n-3}-5f_{n-2}+19f_{n-1}+9f_n]$"
   ]
  },
  {
   "cell_type": "markdown",
   "metadata": {},
   "source": [
    "### 4. Derive the formula of trapezoid quadrature formula error estimation. Use Taylor series expansion for antiderivative $F_{i+1}$ and $f_{i+1}$  [mathematical formula] Usetimation time: ~30m"
   ]
  },
  {
   "cell_type": "markdown",
   "metadata": {},
   "source": [
    "$I_i^{i+1} = F_{i+1} - F_i$ - by Newton-Leibniz formula\n",
    "\n",
    "$\\hat{I}_i^{i+1} = \\cfrac{h_{i+1}}{2}(f_i + f_{i+1})$ - trapezoid quadrature formula\n",
    "\n",
    "Using Taylor series obtaining $F_{i+1} \\text{ and } f_{i+1}$ <br>\n",
    "$F_{i+1} = F_i + h_{i+1}f_i + \\cfrac{h_{i+1}^2}{2}f_i' + \\cfrac{h_{i+1}^3}{6}f''(\\xi_i)$ <br>\n",
    "$f_{i+1} = f_i + h_{i+1}f_i' + \\cfrac{h_{i+1}^2}{2}f''(\\xi_i)$ <br>\n",
    "where $\\xi_i \\in (x_i, x_{i+1})$ is the same for $f(x)$ and $F(x)$<br>\n",
    "\n",
    "$I_i^{i+1} - \\hat{I}_i^{i+1} = F_i + h_{i+1}f_i + \\cfrac{h_{i+1}^2}{2}f_i' + \\cfrac{h_{i+1}^3}{6}f''(\\xi_i) - F_i - \\cfrac{h_{i+1}}{2}(f_i + f_i + h_{i+1}f_i' + \\cfrac{h_{i+1}^2}{2}f''(\\xi_i)) = \\cfrac{h_{i+1}^3}{6}f''(\\xi_i) - \\cfrac{h_{i+1}^3}{4}f''(\\xi_i) = -\\cfrac{h_{i+1}^3}{12}f''(\\xi_i)$\n",
    "\n",
    "$M_{2,i} = max |f''(\\xi_i)|$, then\n",
    "\n",
    "$|I_i^{i+1} - \\hat{I}_i^{i+1}| \\le \\cfrac{h_{i+1}^3}{12}M_{2,i}$ - error estimate"
   ]
  },
  {
   "cell_type": "markdown",
   "metadata": {},
   "source": [
    "### Congrats!"
   ]
  }
 ],
 "metadata": {
  "kernelspec": {
   "display_name": "Python 3",
   "language": "python",
   "name": "python3"
  },
  "language_info": {
   "codemirror_mode": {
    "name": "ipython",
    "version": 3
   },
   "file_extension": ".py",
   "mimetype": "text/x-python",
   "name": "python",
   "nbconvert_exporter": "python",
   "pygments_lexer": "ipython3",
   "version": "3.7.2"
  }
 },
 "nbformat": 4,
 "nbformat_minor": 2
}
